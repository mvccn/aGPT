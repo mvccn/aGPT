{
 "cells": [
  {
   "cell_type": "code",
   "execution_count": null,
   "metadata": {},
   "outputs": [],
   "source": [
    "#if you never install openai, this is the time, uncomment the line below\n",
    "#!pip install openai"
   ]
  },
  {
   "cell_type": "code",
   "execution_count": 1,
   "metadata": {},
   "outputs": [
    {
     "name": "stdout",
     "output_type": "stream",
     "text": [
      "The autoreload extension is already loaded. To reload it, use:\n",
      "  %reload_ext autoreload\n",
      "/mnt/4T/chatgpt\n"
     ]
    }
   ],
   "source": [
    "#auto load\n",
    "%load_ext autoreload\n",
    "%autoreload 2\n",
    "\n",
    "#clone the project and change working directory to the folder. \n",
    "%cd ~/projects/aGPT "
   ]
  },
  {
   "cell_type": "code",
   "execution_count": 3,
   "metadata": {},
   "outputs": [],
   "source": [
    "from aGPT import *"
   ]
  },
  {
   "cell_type": "code",
   "execution_count": 4,
   "metadata": {},
   "outputs": [],
   "source": [
    "g=aGPT()"
   ]
  },
  {
   "cell_type": "markdown",
   "metadata": {},
   "source": [
    "## conversation"
   ]
  },
  {
   "cell_type": "code",
   "execution_count": 5,
   "metadata": {},
   "outputs": [
    {
     "name": "stdout",
     "output_type": "stream",
     "text": [
      "Did you know that octopuses have three hearts and blue blood?\n"
     ]
    }
   ],
   "source": [
    "g.ask(\"tell me something\")"
   ]
  },
  {
   "cell_type": "code",
   "execution_count": 6,
   "metadata": {},
   "outputs": [
    {
     "name": "stdout",
     "output_type": "stream",
     "text": [
      "The blue color of the blood in octopuses and some other cephalopods comes from the presence of hemocyanin, which is a copper-containing protein that binds oxygen and transports it throughout their bodies. Hemocyanin is different from the iron-containing hemoglobin found in the blood of humans and other vertebrates, which gives our blood a red color.\n"
     ]
    }
   ],
   "source": [
    "g.ask(\"why it has blue blood?\")"
   ]
  },
  {
   "cell_type": "code",
   "execution_count": 7,
   "metadata": {},
   "outputs": [
    {
     "name": "stdout",
     "output_type": "stream",
     "text": [
      "Octopuses have three hearts because of their unique circulatory system. One of the hearts, known as the systemic heart, pumps blood to the rest of the body, while the other two branchial hearts pump blood through their gills. This allows octopuses to extract more oxygen from water than other animals with simpler circulatory systems. The three hearts also work together to maintain a constant blood pressure in the octopus' body.\n"
     ]
    }
   ],
   "source": [
    "g.ask(\"ok, then why three hearts?\")"
   ]
  },
  {
   "cell_type": "code",
   "execution_count": 8,
   "metadata": {},
   "outputs": [
    {
     "name": "stdout",
     "output_type": "stream",
     "text": [
      "Did you know that the shortest war in history lasted for only 38 minutes? It was fought between the countries of Zanzibar and the United Kingdom in 1896.\n"
     ]
    }
   ],
   "source": [
    "#to start a new one\n",
    "g.ask(\"tell me something else\", fresh=True)"
   ]
  },
  {
   "cell_type": "markdown",
   "metadata": {},
   "source": [
    "##Styles:\n",
    "Use styles to trigger different type of prompts, add your own as you wish. \n",
    "current style: coder, debug, explain"
   ]
  },
  {
   "cell_type": "code",
   "execution_count": 9,
   "metadata": {},
   "outputs": [
    {
     "name": "stdout",
     "output_type": "stream",
     "text": [
      "The code defines a PyTorch module called `Embeddings` which is used to convert integer values representing words in a vocabulary into their corresponding vector embeddings of the specified dimension `d_model`. \n",
      "\n",
      "The `__init__` function initializes the module with a lookup table `self.lut` that maps each word in the vocabulary (specified by the `vocab` parameter) to a `d_model` dimensional vector. The `self.d_model` variable is set to `d_model`.\n",
      "\n",
      "The `forward` function of the module takes a tensor of integer values `x`, such as a batch of sentences, and looks up each value in the embedding lookup table `self.lut`. It then scales the resulting embeddings by multiplying them with the square root of `self.d_model` (as per the recommendations of the authors of the original Transformer paper) and returns the resulting tensor. \n",
      "\n",
      "The purpose of this module is typically to create a trainable parameter matrix of embeddings that can be learned during the training of a neural network that involves text data such as natural language processing tasks.\n"
     ]
    }
   ],
   "source": [
    "#stle explain\n",
    "g.ask(\"\"\"\n",
    "      class Embeddings(nn.Module):\n",
    "\t\tdef __init__(self, d_model, vocab):\n",
    "\t\t\tsuper(Embeddings, self).__init__()\n",
    "\t\t\tself.lut = nn.Embedding(vocab, d_model)\n",
    "\t\t\tself.d_model = d_model\n",
    "\n",
    "\t\tdef forward(self, x):\n",
    "\t\t\treturn self.lut(x) * math.sqrt(self.d_model)\n",
    "      \n",
    "      \n",
    "      \"\"\", style='explain')"
   ]
  },
  {
   "cell_type": "code",
   "execution_count": 10,
   "metadata": {},
   "outputs": [
    {
     "name": "stdout",
     "output_type": "stream",
     "text": [
      "To import a file and run everything inside, you can use the `execfile()` function in Python 2 or the `exec()` function in Python 3. Here's an example:\n",
      "\n",
      "```python\n",
      "# Import the file\n",
      "import my_file\n",
      "\n",
      "# Execute everything inside the file\n",
      "exec(open(\"my_file.py\").read())\n",
      "```\n",
      "\n",
      "Note that this will simply run everything inside the file, so you should ensure that the file doesn't have any side effects or cause unexpected behavior when executed.\n"
     ]
    }
   ],
   "source": [
    "#common coder style, define your common language by:\n",
    "g.default_language=\"Python 3\"\n",
    "g.ask(\"how to import a file and run everything inside\", style='coder', fresh=True)"
   ]
  },
  {
   "cell_type": "code",
   "execution_count": 11,
   "metadata": {},
   "outputs": [
    {
     "name": "stdout",
     "output_type": "stream",
     "text": [
      "The code looks fine functionally. However, it seems to be part of a larger module or class that is missing from the code snippet. \n",
      "\n",
      "Here are some suggestions to improve the code:\n",
      "\n",
      "- Make sure all the necessary modules are imported for the code to work correctly.\n",
      "- Check if the device `device` is defined and imported.\n",
      "- Add comments to explain the purpose of the code blocks, especially if this is intended for collaborative work.\n",
      "- Consider using type annotations to make it clear the expected type of input and output parameters.\n",
      "- Consider removing the last empty line in the end of the code block. It is not necessary and might cause PEP8 style errors.\n"
     ]
    }
   ],
   "source": [
    "g.ask(\"\"\"\n",
    "     def forward(self, idx, targets=None):\n",
    "        B, T = idx.shape\n",
    "\n",
    "        # idx and targets are both (B,T) tensor of integers\n",
    "        tok_emb = self.token_embedding_table(idx) # (B,T,C)\n",
    "        pos_emb = self.position_embedding_table(torch.arange(T, device=device)) # (T,C)\n",
    "        x = tok_emb + pos_emb # (B,T,C)\n",
    "        x = self.blocks(x) # (B,T,C)\n",
    "        x = self.ln_f(x) # (B,T,C)\n",
    "        logits = self.lm_head(x) # (B,T,vocab_size)\n",
    "\n",
    "        if targets is None:\n",
    "            loss = None\n",
    "        else:\n",
    "            B, T, C = logits.shape\n",
    "            logits = logits.view(B*T, C)\n",
    "            targets = targets.view(B*T)\n",
    "            loss = F.cross_entropy(logits, targets)\n",
    "\n",
    "        return logits, loss\n",
    "      \n",
    "      \n",
    "      \"\"\", style='debug')"
   ]
  },
  {
   "cell_type": "code",
   "execution_count": null,
   "metadata": {},
   "outputs": [],
   "source": []
  }
 ],
 "metadata": {
  "kernelspec": {
   "display_name": "Python 3.9.16 ('deep3')",
   "language": "python",
   "name": "python3"
  },
  "language_info": {
   "codemirror_mode": {
    "name": "ipython",
    "version": 3
   },
   "file_extension": ".py",
   "mimetype": "text/x-python",
   "name": "python",
   "nbconvert_exporter": "python",
   "pygments_lexer": "ipython3",
   "version": "3.9.16"
  },
  "orig_nbformat": 4,
  "vscode": {
   "interpreter": {
    "hash": "2e253ca9c7d326498014d271fcc413a7585562e6486d2372af68d12e4fd5aeeb"
   }
  }
 },
 "nbformat": 4,
 "nbformat_minor": 2
}
